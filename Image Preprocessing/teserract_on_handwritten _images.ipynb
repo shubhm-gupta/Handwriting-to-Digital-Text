{
 "cells": [
  {
   "cell_type": "code",
   "execution_count": 2,
   "metadata": {},
   "outputs": [],
   "source": [
    "import os\n",
    "import numpy as np\n",
    "import matplotlib.pyplot as plt\n",
    "import matplotlib.image as mpimg\n",
    "import cv2"
   ]
  },
  {
   "cell_type": "code",
   "execution_count": 3,
   "metadata": {},
   "outputs": [],
   "source": [
    "image_path = \"DoctorPrescription\""
   ]
  },
  {
   "cell_type": "code",
   "execution_count": 4,
   "metadata": {},
   "outputs": [],
   "source": [
    "def loadImages(path):\n",
    "    # Put files into lists and return them as one list of size 4\n",
    "    image_files = sorted([os.path.join(path, 'train', file)\n",
    "         for file in os.listdir(path + \"/\") if      file.endswith('.jpg')])\n",
    " \n",
    "    return image_files"
   ]
  },
  {
   "cell_type": "code",
   "execution_count": 5,
   "metadata": {},
   "outputs": [],
   "source": [
    "z = loadImages(image_path)"
   ]
  },
  {
   "cell_type": "code",
   "execution_count": 6,
   "metadata": {},
   "outputs": [
    {
     "data": {
      "text/plain": [
       "['DoctorPrescription\\\\train\\\\1 (1).jpg',\n",
       " 'DoctorPrescription\\\\train\\\\1 (10).jpg',\n",
       " 'DoctorPrescription\\\\train\\\\1 (11).jpg',\n",
       " 'DoctorPrescription\\\\train\\\\1 (12).jpg',\n",
       " 'DoctorPrescription\\\\train\\\\1 (13).jpg',\n",
       " 'DoctorPrescription\\\\train\\\\1 (14).jpg',\n",
       " 'DoctorPrescription\\\\train\\\\1 (15).jpg',\n",
       " 'DoctorPrescription\\\\train\\\\1 (16).jpg',\n",
       " 'DoctorPrescription\\\\train\\\\1 (17).jpg',\n",
       " 'DoctorPrescription\\\\train\\\\1 (18).jpg',\n",
       " 'DoctorPrescription\\\\train\\\\1 (19).jpg',\n",
       " 'DoctorPrescription\\\\train\\\\1 (20).jpg',\n",
       " 'DoctorPrescription\\\\train\\\\1 (21).jpg',\n",
       " 'DoctorPrescription\\\\train\\\\1 (22).jpg',\n",
       " 'DoctorPrescription\\\\train\\\\1 (23).jpg',\n",
       " 'DoctorPrescription\\\\train\\\\1 (24).jpg',\n",
       " 'DoctorPrescription\\\\train\\\\1 (25).jpg',\n",
       " 'DoctorPrescription\\\\train\\\\1 (26).jpg',\n",
       " 'DoctorPrescription\\\\train\\\\1 (27).jpg',\n",
       " 'DoctorPrescription\\\\train\\\\1 (28).jpg',\n",
       " 'DoctorPrescription\\\\train\\\\1 (29).jpg',\n",
       " 'DoctorPrescription\\\\train\\\\1 (30).jpg',\n",
       " 'DoctorPrescription\\\\train\\\\1 (31).jpg',\n",
       " 'DoctorPrescription\\\\train\\\\1 (32).jpg',\n",
       " 'DoctorPrescription\\\\train\\\\1 (33).jpg',\n",
       " 'DoctorPrescription\\\\train\\\\1 (34).jpg',\n",
       " 'DoctorPrescription\\\\train\\\\1 (35).jpg',\n",
       " 'DoctorPrescription\\\\train\\\\1 (36).jpg',\n",
       " 'DoctorPrescription\\\\train\\\\1 (37).jpg',\n",
       " 'DoctorPrescription\\\\train\\\\1 (38).jpg',\n",
       " 'DoctorPrescription\\\\train\\\\1 (39).jpg',\n",
       " 'DoctorPrescription\\\\train\\\\1 (4).jpg',\n",
       " 'DoctorPrescription\\\\train\\\\1 (40).jpg',\n",
       " 'DoctorPrescription\\\\train\\\\1 (41).jpg',\n",
       " 'DoctorPrescription\\\\train\\\\1 (42).jpg',\n",
       " 'DoctorPrescription\\\\train\\\\1 (43).jpg',\n",
       " 'DoctorPrescription\\\\train\\\\1 (44).jpg',\n",
       " 'DoctorPrescription\\\\train\\\\1 (45).jpg',\n",
       " 'DoctorPrescription\\\\train\\\\1 (46).jpg',\n",
       " 'DoctorPrescription\\\\train\\\\1 (47).jpg',\n",
       " 'DoctorPrescription\\\\train\\\\1 (48).jpg',\n",
       " 'DoctorPrescription\\\\train\\\\1 (49).jpg',\n",
       " 'DoctorPrescription\\\\train\\\\1 (5).jpg',\n",
       " 'DoctorPrescription\\\\train\\\\1 (50).jpg',\n",
       " 'DoctorPrescription\\\\train\\\\1 (51).jpg',\n",
       " 'DoctorPrescription\\\\train\\\\1 (52).jpg',\n",
       " 'DoctorPrescription\\\\train\\\\1 (6).jpg',\n",
       " 'DoctorPrescription\\\\train\\\\1 (7).jpg',\n",
       " 'DoctorPrescription\\\\train\\\\1 (8).jpg',\n",
       " 'DoctorPrescription\\\\train\\\\1 (9).jpg',\n",
       " 'DoctorPrescription\\\\train\\\\abc.jpg']"
      ]
     },
     "execution_count": 6,
     "metadata": {},
     "output_type": "execute_result"
    }
   ],
   "source": [
    "z"
   ]
  },
  {
   "cell_type": "code",
   "execution_count": 7,
   "metadata": {},
   "outputs": [],
   "source": [
    "# Display one image\n",
    "def display_one(a, title1 = \"Original\"):\n",
    "    plt.imshow(a), plt.title(title1)\n",
    "    plt.xticks([]), plt.yticks([])\n",
    "    plt.show()"
   ]
  },
  {
   "cell_type": "code",
   "execution_count": 9,
   "metadata": {},
   "outputs": [],
   "source": [
    "# Display two images\n",
    "def display(a, b, title1 = \"Original\", title2 = \"Edited\"):\n",
    "    plt.subplot(121), plt.imshow(a), plt.title(title1)\n",
    "    plt.xticks([]), plt.yticks([])\n",
    "    plt.subplot(122), plt.imshow(b), plt.title(title2)\n",
    "    plt.xticks([]), plt.yticks([])\n",
    "    plt.show()"
   ]
  },
  {
   "cell_type": "code",
   "execution_count": 10,
   "metadata": {},
   "outputs": [],
   "source": [
    "# Preprocessing\n",
    "def processing(data):\n",
    "    # loading image\n",
    "    # Getting 3 images to work with \n",
    "    img = [cv2.imread(i, cv2.IMREAD_UNCHANGED) for i in data[:3]]\n",
    "    print('Original size',img[0].shape)\n",
    "    # --------------------------------\n",
    "    # setting dim of the resize\n",
    "    height = 220\n",
    "    width = 220\n",
    "    dim = (width, height)\n",
    "    res_img = []\n",
    "    for i in range(len(img)):\n",
    "        res = cv2.resize(img[i], dim, interpolation=cv2.INTER_LINEAR)\n",
    "        res_img.append(res)\n",
    "\n",
    "    # Checcking the size\n",
    "    print(\"RESIZED\", res_img[1].shape)\n",
    "    \n",
    "    # Visualizing one of the images in the array\n",
    "    original = res_img[1]\n",
    "    display_one(original)"
   ]
  },
  {
   "cell_type": "code",
   "execution_count": 1,
   "metadata": {},
   "outputs": [],
   "source": [
    "from PIL import Image\n",
    "myImage = Image.open(\"def.jpeg\");\n",
    "myImage.show();"
   ]
  },
  {
   "cell_type": "code",
   "execution_count": 12,
   "metadata": {},
   "outputs": [],
   "source": [
    "x = cv2.imread(\"def.jpeg\")"
   ]
  },
  {
   "cell_type": "code",
   "execution_count": null,
   "metadata": {},
   "outputs": [],
   "source": [
    "cv2.imshow('image',x)\n",
    "cv2.waitKey(0)\n",
    "cv2.destroyAllWindows()"
   ]
  },
  {
   "cell_type": "code",
   "execution_count": null,
   "metadata": {},
   "outputs": [],
   "source": [
    "plt.imshow(x, aspect='auto'), plt.title(\"Doctor\")\n",
    "plt.xticks([]), plt.yticks([])\n",
    "plt.show()"
   ]
  },
  {
   "cell_type": "code",
   "execution_count": 2,
   "metadata": {},
   "outputs": [],
   "source": [
    "# import the necessary packages\n",
    "from PIL import Image\n",
    "import pytesseract\n",
    "import argparse\n",
    "import cv2\n",
    "import os"
   ]
  },
  {
   "cell_type": "code",
   "execution_count": 3,
   "metadata": {},
   "outputs": [],
   "source": [
    "image = cv2.imread(\"abc.jpg\")\n",
    "gray = cv2.cvtColor(image, cv2.COLOR_BGR2GRAY)"
   ]
  },
  {
   "cell_type": "code",
   "execution_count": 4,
   "metadata": {},
   "outputs": [
    {
     "data": {
      "text/plain": [
       "True"
      ]
     },
     "execution_count": 4,
     "metadata": {},
     "output_type": "execute_result"
    }
   ],
   "source": [
    "filename = \"{}.png\".format(os.getpid())\n",
    "cv2.imwrite(filename, gray)"
   ]
  },
  {
   "cell_type": "code",
   "execution_count": 10,
   "metadata": {},
   "outputs": [],
   "source": [
    "pytesseract.pytesseract.tesseract_cmd = 'C:\\\\Program Files\\\\Tesseract-OCR\\\\tesseract.exe'"
   ]
  },
  {
   "cell_type": "code",
   "execution_count": 11,
   "metadata": {},
   "outputs": [
    {
     "name": "stdout",
     "output_type": "stream",
     "text": [
      "Nicarvdha RB 20 49\n",
      "“lesi\\x 0 64\n",
      "sPawlac (50 bA\n",
      "Surosel Ave HE.\n",
      "Aolst, ion\n",
      "“WNeko.) IGA -\n",
      "AA Ion a Oe | oes\n"
     ]
    },
    {
     "data": {
      "text/plain": [
       "-1"
      ]
     },
     "execution_count": 11,
     "metadata": {},
     "output_type": "execute_result"
    }
   ],
   "source": [
    "# load the image as a PIL/Pillow image, apply OCR, and then delete\n",
    "# the temporary file\n",
    "text = pytesseract.image_to_string(Image.open(filename))\n",
    "#os.remove(filename)\n",
    "print(text)\n",
    " \n",
    "# show the output images\n",
    "cv2.imshow(\"Image\", image)\n",
    "cv2.imshow(\"Output\", gray)\n",
    "cv2.waitKey(0)"
   ]
  },
  {
   "cell_type": "code",
   "execution_count": 12,
   "metadata": {},
   "outputs": [
    {
     "name": "stdout",
     "output_type": "stream",
     "text": [
      "text present in images: Nicarvdha RB 20 49\n",
      "“lesi\\x 0 64\n",
      "sPawlac (50 bA\n",
      "Surosel Ave HE.\n",
      "Aolst, ion\n",
      "“WNeko.) IGA -\n",
      "AA Ion a Oe | oes\n"
     ]
    }
   ],
   "source": [
    "import pytesseract\n",
    "from PIL import Image\n",
    "\n",
    "value=Image.open(\"2448.png\")\n",
    "text = pytesseract.image_to_string(value, config='')    \n",
    "print(\"text present in images:\",text)"
   ]
  }
 ],
 "metadata": {
  "kernelspec": {
   "display_name": "Python 3",
   "language": "python",
   "name": "python3"
  },
  "language_info": {
   "codemirror_mode": {
    "name": "ipython",
    "version": 3
   },
   "file_extension": ".py",
   "mimetype": "text/x-python",
   "name": "python",
   "nbconvert_exporter": "python",
   "pygments_lexer": "ipython3",
   "version": "3.7.1"
  }
 },
 "nbformat": 4,
 "nbformat_minor": 2
}
